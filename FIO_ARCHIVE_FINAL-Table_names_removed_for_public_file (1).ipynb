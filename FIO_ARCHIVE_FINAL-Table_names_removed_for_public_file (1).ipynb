{
 "cells": [
  {
   "cell_type": "code",
   "execution_count": null,
   "metadata": {
    "collapsed": true
   },
   "outputs": [],
   "source": [
    "#This is probably the weirdest way I've ever had to go about solving a problem. \n",
    "#The Problem: Urgent Data Request - I need to fill out 2 remaining columns in an Excel file. \n",
    "#The issue is there were tons of transformations done in the excel file, and I do not know what they are, \n",
    "#so it would be nearly impossible to write a SQL query for all unknown conditions and match all 4674 rows. \n",
    "#There is also a lot of dirty data in some of these fields in our warehouse around some of these fields\n",
    "#(Legal entity duplicates causing many to many relationships)\n",
    "#The Solution: Write a query for each row. "
   ]
  },
  {
   "cell_type": "code",
   "execution_count": 1,
   "metadata": {
    "collapsed": true,
    "scrolled": true
   },
   "outputs": [],
   "source": [
    "import pandas as pd\n",
    "import pyodbc \n",
    "import matplotlib as plt\n",
    "\n",
    "#Change Jupyter io limit to 1M to make sure all queries are being generated (100,000 lines is the default limit)\n",
    "#--NotebookApp.iopub_data_rate_limit=1000000000\n",
    "%matplotlib inline"
   ]
  },
  {
   "cell_type": "code",
   "execution_count": 2,
   "metadata": {
    "collapsed": true
   },
   "outputs": [],
   "source": [
    "#establish MS DB Connection\n",
    "cnxn = pyodbc.connect('DRIVER={SQL Server};SERVER=serveraddress;DATABASE=dbname;UID=user;PWD=pass')\n",
    "#create Cursor\n",
    "cursor = cnxn.cursor()"
   ]
  },
  {
   "cell_type": "code",
   "execution_count": 3,
   "metadata": {
    "collapsed": true
   },
   "outputs": [],
   "source": [
    "#get file and transform to data frame\n",
    "f = open('C:\\Users\\\\pathtofile\\file.csv')\n",
    "inputFile = pd.read_csv(f)\n",
    "df = pd.DataFrame(inputFile)\n",
    "f.close()"
   ]
  },
  {
   "cell_type": "code",
   "execution_count": 1,
   "metadata": {
    "scrolled": true
   },
   "outputs": [],
   "source": [
    "df.head()\n",
    "#Can't show data publicly"
   ]
  },
  {
   "cell_type": "code",
   "execution_count": 7,
   "metadata": {
    "collapsed": true
   },
   "outputs": [],
   "source": [
    "queryFile = open('C:\\Users\\\\pathtofile\\file.csv', 'w')"
   ]
  },
  {
   "cell_type": "code",
   "execution_count": null,
   "metadata": {
    "collapsed": true,
    "scrolled": false
   },
   "outputs": [],
   "source": [
    "#Writes queries to text file with a pipe delimiter. One query per row in csv file. \n",
    "#The reason it had to be written like this is dirty data. \n",
    "#The legal entity IDs are attributed to many names and different spellings making a 'like' clause impossible \n",
    "\n",
    "row_iterator = df.iterrows()\n",
    "_, last = row_iterator.next()  # take first item from row_iterator\n",
    "\n",
    "for i, row in row_iterator:\n",
    "    row1 = (int(row['LEGAL_ENTITY']), int(row['CY_YE']), int(row['TRIP_ASLOB']), row['CVG_ST'])\n",
    "    row2 = (last['LEGAL_ENTITY'], last['CY_YE'], last['TRIP_ASLOB'], last['CVG_ST'])\n",
    "    last = row\n",
    "    data = row1\n",
    "\n",
    "    \n",
    "    query= \"\"\"USE xxx\n",
    "    DECLARE @xxx TABLE (Value VARCHAR(MAX))\n",
    "    \n",
    "    INSERT INTO @xxx VALUES ('xxx') \n",
    "    INSERT INTO @xxx VALUES ('xxx') \n",
    "    \n",
    "    DECLARE @xxx TABLE (Value VARCHAR(MAX))\n",
    "    \n",
    "    INSERT INTO @xxx VALUES ('xxx') \n",
    "    INSERT INTO @xxx VALUES ('xxx') \n",
    "    \n",
    "    DECLARE @bric TABLE (Value VARCHAR(MAX))\n",
    "    \n",
    "    INSERT INTO @xxx VALUES ('xxx')\n",
    "    INSERT INTO @xxx VALUES ('xxx') \n",
    "    INSERT INTO @xxx VALUES ('xxx') \n",
    "    \n",
    "    DECLARE @xxx TABLE (Value VARCHAR(MAX))\n",
    "    INSERT INTO @xxx VALUES ('xxx') \n",
    "    \n",
    "    INSERT INTO @starnet VALUES ('xxx') \n",
    "    DECLARE @entityID int = {}\n",
    "    \n",
    "    IF @entityID = 10833\n",
    "    BEGIN\n",
    "    \n",
    "    SELECT COUNT(DISTINCT(pol_num)) In_Force_Count, sum(lmt_pol_s) Exposure\n",
    "    FROM xxx\n",
    "    WHERE aslob = {}\n",
    "    and CONCAT({},1231) between CAST(d_pol_eff AS DATE) and CAST(d_pol_exp AS DATE)\n",
    "    and cvg_state = '{}'\n",
    "    and rpt_co_name in (SELECT * FROM @xxx)\n",
    "    \n",
    "    END\n",
    "    \n",
    "    IF @entityID = 25224\n",
    "    BEGIN\n",
    "    \n",
    "    SELECT COUNT(DISTINCT(pol_num)) In_Force_Count, sum(lmt_pol_s) Exposure\n",
    "    FROM xxx\n",
    "    WHERE aslob = {}\n",
    "    and CONCAT({},1231) between CAST(d_pol_eff AS DATE) and CAST(d_pol_exp AS DATE)\n",
    "    and cvg_state = '{}'\n",
    "    and rpt_co_name in (SELECT * FROM @xxx)\n",
    "    \n",
    "    END\n",
    "    \n",
    "    IF @entityID = 29580\n",
    "    BEGIN\n",
    "    \n",
    "    SELECT COUNT(DISTINCT(pol_num)) In_Force_Count, sum(lmt_pol_s) Exposure\n",
    "    FROM xxx \n",
    "    WHERE aslob = {}\n",
    "    and CONCAT({},1231) between CAST(d_pol_eff AS DATE) and CAST(d_pol_exp AS DATE)\n",
    "    and cvg_state = '{}'\n",
    "    and rpt_co_name in (SELECT * FROM @xxx)\n",
    "    \n",
    "    END\n",
    "    \n",
    "    IF @entityID = 31003\n",
    "    BEGIN\n",
    "    \n",
    "    SELECT COUNT(DISTINCT(pol_num)) In_Force_Count, sum(lmt_pol_s) Exposure\n",
    "    FROM xxx\n",
    "    WHERE aslob = {}\n",
    "    and CONCAT({},1231) between CAST(d_pol_eff AS DATE) and CAST(d_pol_exp AS DATE)\n",
    "    and cvg_state = '{}'\n",
    "    and rpt_co_name = 'xxx'\n",
    "    \n",
    "    END\n",
    "    \n",
    "    IF @entityID = 31295\n",
    "    BEGIN\n",
    "    \n",
    "    SELECT COUNT(DISTINCT(pol_num)) In_Force_Count, sum(lmt_pol_s) Exposure\n",
    "    FROM xxx\n",
    "    WHERE aslob = {}\n",
    "    and CONCAT({},1231) between CAST(d_pol_eff AS DATE) and CAST(d_pol_exp AS DATE)\n",
    "    and cvg_state = '{}'\n",
    "    and rpt_co_name = 'xxx'\n",
    "    \n",
    "    END\n",
    "    \n",
    "    IF @entityID = 32603\n",
    "    BEGIN\n",
    "    \n",
    "    SELECT COUNT(DISTINCT(pol_num)) In_Force_Count, sum(lmt_pol_s) Exposure\n",
    "    FROM xxx\n",
    "    WHERE aslob = {}\n",
    "    and CONCAT({},1231) between CAST(d_pol_eff AS DATE) and CAST(d_pol_exp AS DATE)\n",
    "    and cvg_state = '{}'\n",
    "    and rpt_co_name = 'xxx'\n",
    "    \n",
    "    END\n",
    "    \n",
    "    IF @entityID = 38911\n",
    "    BEGIN\n",
    "    \n",
    "    SELECT COUNT(DISTINCT(pol_num)) In_Force_Count, sum(lmt_pol_s) Exposure\n",
    "    FROM xxx \n",
    "    WHERE aslob = {}\n",
    "    and CONCAT({},1231) between CAST(d_pol_eff AS DATE) and CAST(d_pol_exp AS DATE)\n",
    "    and cvg_state = '{}'\n",
    "    and rpt_co_name = 'xxx'\n",
    "    \n",
    "    END\n",
    "    \n",
    "    IF @entityID = 40045\n",
    "    BEGIN\n",
    "    \n",
    "    SELECT COUNT(DISTINCT(pol_num)) In_Force_Count, sum(lmt_pol_s) Exposure\n",
    "    FROM xxx \n",
    "    WHERE aslob = {}\n",
    "    and CONCAT({},1231) between CAST(d_pol_eff AS DATE) and CAST(d_pol_exp AS DATE)\n",
    "    and cvg_state = '{}'\n",
    "    and rpt_co_name in (SELECT * FROM @xxx)\n",
    "    END \n",
    "    \"\"\".format(data[0], data[2], data[1], data[3], data[2], data[1], \n",
    "                  data[3], data[2], data[1], data[3], data[2], data[1], \n",
    "                  data[3], data[2], data[1], data[3], data[2], data[1], \n",
    "                  data[3], data[2], data[1], data[3], data[2], data[1], data[3])\n",
    "    \n",
    "    queryFile.write(query)\n",
    "    print query\n",
    "queryFile.close()"
   ]
  },
  {
   "cell_type": "code",
   "execution_count": null,
   "metadata": {
    "collapsed": true
   },
   "outputs": [],
   "source": [
    "#Runs successfully and does what is expected."
   ]
  },
  {
   "cell_type": "code",
   "execution_count": 2,
   "metadata": {},
   "outputs": [],
   "source": [
    "#Stripped all but 1 query from the file to test. Print out query to see if anything's missing\n",
    "queryFile = open('C:\\Users\\\\pathtofile\\file.csv', 'r')\n",
    "\n",
    "for line in queryFile:\n",
    "    fields = line.split('|')\n",
    "    print fields[0]\n",
    "#Can's show actual sql on public file"
   ]
  },
  {
   "cell_type": "code",
   "execution_count": 76,
   "metadata": {
    "collapsed": true
   },
   "outputs": [],
   "source": [
    "#Spacing and indents came out a bit odd, but it runs in SSMS. For now, it looks good."
   ]
  },
  {
   "cell_type": "code",
   "execution_count": 82,
   "metadata": {},
   "outputs": [
    {
     "ename": "ProgrammingError",
     "evalue": "('42000', '[42000] [Microsoft][ODBC SQL Server Driver][SQL Server]Must declare the table variable \"@gemini\". (1087) (SQLExecDirectW)')",
     "output_type": "error",
     "traceback": [
      "\u001b[1;31m---------------------------------------------------------------------------\u001b[0m",
      "\u001b[1;31mProgrammingError\u001b[0m                          Traceback (most recent call last)",
      "\u001b[1;32m<ipython-input-82-6cf7fa92ef07>\u001b[0m in \u001b[0;36m<module>\u001b[1;34m()\u001b[0m\n\u001b[0;32m      3\u001b[0m \u001b[1;32mfor\u001b[0m \u001b[0mline\u001b[0m \u001b[1;32min\u001b[0m \u001b[0mqueryFile\u001b[0m\u001b[1;33m:\u001b[0m\u001b[1;33m\u001b[0m\u001b[0m\n\u001b[0;32m      4\u001b[0m     \u001b[0mfields\u001b[0m \u001b[1;33m=\u001b[0m \u001b[0mline\u001b[0m\u001b[1;33m.\u001b[0m\u001b[0msplit\u001b[0m\u001b[1;33m(\u001b[0m\u001b[1;34m'|'\u001b[0m\u001b[1;33m)\u001b[0m\u001b[1;33m\u001b[0m\u001b[0m\n\u001b[1;32m----> 5\u001b[1;33m     \u001b[0mcursor\u001b[0m\u001b[1;33m.\u001b[0m\u001b[0mexecute\u001b[0m\u001b[1;33m(\u001b[0m\u001b[0mfields\u001b[0m\u001b[1;33m[\u001b[0m\u001b[1;36m0\u001b[0m\u001b[1;33m]\u001b[0m\u001b[1;33m)\u001b[0m\u001b[1;33m\u001b[0m\u001b[0m\n\u001b[0m",
      "\u001b[1;31mProgrammingError\u001b[0m: ('42000', '[42000] [Microsoft][ODBC SQL Server Driver][SQL Server]Must declare the table variable \"@gemini\". (1087) (SQLExecDirectW)')"
     ]
    }
   ],
   "source": [
    "queryFile = open(queryFile = open('C:\\Users\\\\pathtofile\\file.csv', 'r')\n",
    "\n",
    "for line in queryFile:\n",
    "    fields = line.split('|')\n",
    "    print fields[0], 'r')\n",
    "\n",
    "for line in queryFile:\n",
    "    fields = line.split('|')\n",
    "    cursor.execute(fields[0])"
   ]
  },
  {
   "cell_type": "code",
   "execution_count": 79,
   "metadata": {
    "collapsed": true
   },
   "outputs": [],
   "source": [
    "#According to this Stack Overflow post:\n",
    "#http://stackoverflow.com/questions/13750548/sql-server-variable-declared-but-still-says-must-declare-the-scalar-variable\n",
    "#there is a workaround but I would have to restructure everything and it may slow down execution. \n",
    "#Temp Table test. Runs in SSMS\n",
    "query = \"\"\"USE xxx\n",
    "    CREATE TABLE  #xxx (Value VARCHAR(MAX))\n",
    "    \n",
    "    INSERT INTO #xxx VALUES ('xxx') \n",
    "    INSERT INTO #xxx VALUES ('xxx') \n",
    "    \n",
    "    CREATE TABLE #xxx (Value VARCHAR(MAX))\n",
    "    \n",
    "    INSERT INTO #xxx VALUES ('xxx') \n",
    "    INSERT INTO #xxx VALUES ('xxx') \n",
    "    \n",
    "    CREATE TABLE #xxx (Value VARCHAR(MAX))\n",
    "    \n",
    "    INSERT INTO #xxx VALUES ('xxx')\n",
    "    INSERT INTO #xxx VALUES ('xxx') \n",
    "    INSERT INTO #xxx VALUES ('xxx') \n",
    "    \n",
    "    CREATE TABLE #xxx (Value VARCHAR(MAX))\n",
    "    INSERT INTO #xxx VALUES ('xxx') \n",
    "    \n",
    "    INSERT INTO #starnet VALUES ('xxx') \n",
    "    DECLARE @entityID int = 10833\n",
    "    \n",
    "    IF @entityID = 10833\n",
    "    BEGIN\n",
    "    \n",
    "    SELECT COUNT(DISTINCT(pol_num)) In_Force_Count, sum(lmt_pol_s) Exposure\n",
    "    FROM xxx\n",
    "    WHERE aslob = 90\n",
    "    and CONCAT(2009,1231) between CAST(d_pol_eff AS DATE) and CAST(d_pol_exp AS DATE)\n",
    "    and cvg_state = 'CA'\n",
    "    and rpt_co_name in (SELECT * FROM #xxx)\n",
    "    \n",
    "    END\n",
    "    \n",
    "    IF @entityID = 25224\n",
    "    BEGIN\n",
    "    \n",
    "    SELECT COUNT(DISTINCT(pol_num)) In_Force_Count, sum(lmt_pol_s) Exposure\n",
    "    FROM xxx\n",
    "    WHERE aslob = 90\n",
    "    and CONCAT(2009,1231) between CAST(d_pol_eff AS DATE) and CAST(d_pol_exp AS DATE)\n",
    "    and cvg_state = 'CA'\n",
    "    and rpt_co_name in (SELECT * FROM #xxx)\n",
    "    \n",
    "    END\n",
    "    \n",
    "    IF @entityID = 29580\n",
    "    BEGIN\n",
    "    \n",
    "    SELECT COUNT(DISTINCT(pol_num)) In_Force_Count, sum(lmt_pol_s) Exposure\n",
    "    FROM xxx\n",
    "    WHERE aslob = 90\n",
    "    and CONCAT(2009,1231) between CAST(d_pol_eff AS DATE) and CAST(d_pol_exp AS DATE)\n",
    "    and cvg_state = 'CA'\n",
    "    and rpt_co_name in (SELECT * FROM #xxx)\n",
    "    \n",
    "    END\n",
    "    \n",
    "    IF @entityID = 31003\n",
    "    BEGIN\n",
    "    \n",
    "    SELECT COUNT(DISTINCT(pol_num)) In_Force_Count, sum(lmt_pol_s) Exposure\n",
    "    FROM xxx \n",
    "    WHERE aslob = 90\n",
    "    and CONCAT(2009,1231) between CAST(d_pol_eff AS DATE) and CAST(d_pol_exp AS DATE)\n",
    "    and cvg_state = 'CA'\n",
    "    and rpt_co_name = 'xxx'\n",
    "    \n",
    "    END\n",
    "    \n",
    "    IF @entityID = 31295\n",
    "    BEGIN\n",
    "    \n",
    "    SELECT COUNT(DISTINCT(pol_num)) In_Force_Count, sum(lmt_pol_s) Exposure\n",
    "    FROM xxx \n",
    "    WHERE aslob = 90\n",
    "    and CONCAT(2009,1231) between CAST(d_pol_eff AS DATE) and CAST(d_pol_exp AS DATE)\n",
    "    and cvg_state = 'CA'\n",
    "    and rpt_co_name = 'xxx'\n",
    "    \n",
    "    END\n",
    "    \n",
    "    IF @entityID = 32603\n",
    "    BEGIN\n",
    "    \n",
    "    SELECT COUNT(DISTINCT(pol_num)) In_Force_Count, sum(lmt_pol_s) Exposure\n",
    "    FROM xxx \n",
    "    WHERE aslob = 90\n",
    "    and CONCAT(2009,1231) between CAST(d_pol_eff AS DATE) and CAST(d_pol_exp AS DATE)\n",
    "    and cvg_state = 'CA'\n",
    "    and rpt_co_name = 'xxx'\n",
    "    \n",
    "    END\n",
    "    \n",
    "    IF @entityID = 38911\n",
    "    BEGIN\n",
    "    \n",
    "    SELECT COUNT(DISTINCT(pol_num)) In_Force_Count, sum(lmt_pol_s) Exposure\n",
    "    FROM xxx\n",
    "    WHERE aslob = 90\n",
    "    and CONCAT(2009,1231) between CAST(d_pol_eff AS DATE) and CAST(d_pol_exp AS DATE)\n",
    "    and cvg_state = 'CA'\n",
    "    and rpt_co_name = 'xxx'\n",
    "    \n",
    "    END\n",
    "    \n",
    "    IF @entityID = 40045\n",
    "    BEGIN\n",
    "    \n",
    "    SELECT COUNT(DISTINCT(pol_num)) In_Force_Count, sum(lmt_pol_s) Exposure\n",
    "    FROM xxx\n",
    "    WHERE aslob = 90\n",
    "    and CONCAT(2009,1231) between CAST(d_pol_eff AS DATE) and CAST(d_pol_exp AS DATE)\n",
    "    and cvg_state = 'CA'\n",
    "    and rpt_co_name in (SELECT * FROM #xxx)\n",
    "    END\"\"\")\n",
    "\n",
    "cursor.execute(query)\n",
    "cursor.fetchall()"
   ]
  },
  {
   "cell_type": "code",
   "execution_count": null,
   "metadata": {
    "collapsed": true
   },
   "outputs": [],
   "source": [
    "#Too slow. I'm done with tempdb. It's not great friends with pyodbc. I'm making a lookup table.\n",
    "#Create Lookup Table\n",
    "query = '''CREATE TABLE NAIC_Legal_Entity_Lookup  (ID int,\n",
    "                                     Ent_Name VARCHAR(500))\n",
    "\n",
    "INSERT INTO NAIC_Legal_Entity_Lookup \n",
    "VALUES (10833,'xxx'),\n",
    "       (10833,'xxx xxx xxx'),\n",
    "       (25224,'xxx xxx'),\n",
    "       (25224,'xxx xxx xxx xxx'),\n",
    "       (29580,'xxx xxx'),\n",
    "       (29580,'xxx xxx xxx xxx'),\n",
    "       (29580,'xxx'),\n",
    "       (31003,'xxx xxx xxx xxx xxx xxx'),\n",
    "       (31295,'xxx xxx xxx xxx xxx'),\n",
    "       (32603,'xxx xxx xxx'),  \n",
    "       (38911,'xxx xxx xxx xxx'), \n",
    "       (40045,'xxxt'),\n",
    "       (40045,'xxx xxx xxx')\n",
    "       '''\n",
    "cursor.execute(query)"
   ]
  },
  {
   "cell_type": "code",
   "execution_count": 3,
   "metadata": {},
   "outputs": [],
   "source": [
    "#Test\n",
    "cursor.execute('select * from NAIC_Legal_Entity_Lookup')\n",
    "cursor.fetchall()\n",
    "#Passed - Can't show names on public file"
   ]
  },
  {
   "cell_type": "code",
   "execution_count": 22,
   "metadata": {},
   "outputs": [
    {
     "data": {
      "text/plain": [
       "[(2, Decimal('45075000.00'))]"
      ]
     },
     "execution_count": 22,
     "metadata": {},
     "output_type": "execute_result"
    }
   ],
   "source": [
    "#Test\n",
    "query = '''DECLARE @entityID int = 10833\n",
    "                  SELECT COUNT(DISTINCT(pol_num)) In_Force_Count, sum(lmt_pol_s) Exposure\n",
    "                  FROM xxx\n",
    "                  WHERE aslob = 90\n",
    "                  and CONCAT(2009,1231) between CAST(d_pol_eff AS DATE) and CAST(d_pol_exp AS DATE)\n",
    "                  and cvg_state = 'CA'\n",
    "                  and rpt_co_name in (SELECT Ent_Name FROM NAIC_Legal_Ent_Lookup WHERE ID = @entityID)'''\n",
    "\n",
    "cursor.execute(query)\n",
    "cursor.fetchall()"
   ]
  },
  {
   "cell_type": "code",
   "execution_count": 6,
   "metadata": {},
   "outputs": [
    {
     "data": {
      "text/plain": [
       "[(2, Decimal('45075000.00'))]"
      ]
     },
     "execution_count": 6,
     "metadata": {},
     "output_type": "execute_result"
    }
   ],
   "source": [
    "#From file test\n",
    "\n",
    "with open('C:/users/pathtofile/file.csv', 'r') as q:\n",
    "    data = q.read().replace('|', '')\n",
    "cursor.execute(data)\n",
    "cursor.fetchall()"
   ]
  },
  {
   "cell_type": "code",
   "execution_count": 67,
   "metadata": {
    "collapsed": true
   },
   "outputs": [],
   "source": [
    "#Moving this down here for easier access\n",
    "file = open('C:/users/pathtofile/file.csv', 'w')\n",
    "#file.close()"
   ]
  },
  {
   "cell_type": "code",
   "execution_count": 4,
   "metadata": {},
   "outputs": [],
   "source": [
    "#Since the above runs quickly, I'm going to re-write the queries in this format. \n",
    "row_iterator = df.iterrows()\n",
    "_, last = row_iterator.next()  # take first item from row_iterator\n",
    "\n",
    "for i, row in row_iterator:\n",
    "    row1 = (int(row['LEGAL_ENTITY']), int(row['CY_YE']), int(row['TRIP_ASLOB']), row['CVG_ST'])\n",
    "    row2 = (last['LEGAL_ENTITY'], last['CY_YE'], last['TRIP_ASLOB'], last['CVG_ST'])\n",
    "    last = row\n",
    "    data = row1\n",
    "    \n",
    "    query= \"\"\"SELECT COUNT(DISTINCT(pol_num)) In_Force_Count, sum(distinct(lmt_pol_s)) Exposure\n",
    "              FROM bapu.dbo.xxx\n",
    "              WHERE aslob = {}\n",
    "              and CONCAT({},1231) between CAST(d_pol_eff AS DATE) and CAST(d_pol_exp AS DATE)\n",
    "              and cvg_state = '{}'\n",
    "              and rpt_co_name in (SELECT Ent_Name FROM NAIC_Legal_Ent_Lookup WHERE ID = {})\n",
    "              |\"\"\".format(data[2],data[1],data[3], data[0])\n",
    "    \n",
    "    file.write(query)\n",
    "#passed"
   ]
  },
  {
   "cell_type": "code",
   "execution_count": 5,
   "metadata": {},
   "outputs": [],
   "source": [
    "#Added row number\n",
    "#Before testing the file, I want to see how quickly results are returned directly from Juppyter. \n",
    "\n",
    "row_iterator = df.iterrows()\n",
    "_, last = row_iterator.next()  # take first item from row_iterator\n",
    "\n",
    "for i, row in row_iterator:\n",
    "    row1 = (int(row['LEGAL_ENTITY']), int(row['CY_YE']), int(row['TRIP_ASLOB']), row['CVG_ST'], int(row['Row']))\n",
    "    row2 = (last['LEGAL_ENTITY'], last['CY_YE'], last['TRIP_ASLOB'], last['CVG_ST'], int(row['Row']))\n",
    "    last = row\n",
    "    data = row1\n",
    "    query= \"\"\"SELECT COUNT(DISTINCT(pol_num)) In_Force_Count, sum(distinct(lmt_pol_s)) Exposure\n",
    "              FROM bapu.dbo.xxx\n",
    "              WHERE aslob = {}\n",
    "              and CONCAT({},1231) between CAST(d_pol_eff AS DATE) and CAST(d_pol_exp AS DATE)\n",
    "              and cvg_state = '{}'\n",
    "              and rpt_co_name in (SELECT Ent_Name FROM NAIC_Legal_Ent_Lookup WHERE ID = {})\n",
    "              and (cvg_desc = 'tria' or cvg_desc like '%terrorism%')\n",
    "              \"\"\".format(data[2],data[1],data[3], data[0])\n",
    "    cursor.execute(query)\n",
    "    for row in cursor.fetchall():\n",
    "        #print row[0], row[1], data[2], data[1], data[3], data[0], data[4]\n",
    "#passed - Can't show data on public file"
   ]
  },
  {
   "cell_type": "code",
   "execution_count": null,
   "metadata": {
    "collapsed": true,
    "scrolled": false
   },
   "outputs": [],
   "source": [
    "#Runs pretty quickly. Writing TRIA results to result file\n",
    "row_iterator = df.iterrows()\n",
    "_, last = row_iterator.next()  # take first item from row_iterator\n",
    "resultFile = open('C:\\\\Users\\\\pathtofile\\\\file.csv', 'w')\n",
    "\n",
    "for i, row in row_iterator:\n",
    "    row1 = (int(row['LEGAL_ENTITY']), int(row['CY_YE']), int(row['TRIP_ASLOB']), row['CVG_ST'], int(row['Row']))\n",
    "    row2 = (last['LEGAL_ENTITY'], last['CY_YE'], last['TRIP_ASLOB'], last['CVG_ST'], int(row['Row']))\n",
    "    last = row\n",
    "    data = row1\n",
    "    query= \"\"\"SELECT COUNT(DISTINCT(pol_num)) In_Force_Count, sum(distinct(lmt_pol_s)) Exposure\n",
    "              FROM bapu.dbo.xxx\n",
    "              WHERE aslob = {}\n",
    "              and CONCAT({},1231) between CAST(d_pol_eff AS DATE) and CAST(d_pol_exp AS DATE)\n",
    "              and cvg_state = '{}'\n",
    "              and rpt_co_name in (SELECT Ent_Name FROM NAIC_Legal_Ent_Lookup WHERE ID = {})\n",
    "              and (cvg_desc = 'tria' or cvg_desc like '%terrorism%')\n",
    "              \"\"\".format(data[2],data[1],data[3], data[0])\n",
    "    cursor.execute(query)\n",
    "    for row in cursor.fetchall():\n",
    "        resultFile.write(\"{} {} {} {} {} {} {} \\n\".format(row[0], row[1], data[2], data[1], data[3], data[0], data[4]))\n",
    "        print row[0], row[1], data[2], data[1], data[3], data[0], data[4]"
   ]
  },
  {
   "cell_type": "code",
   "execution_count": 7,
   "metadata": {
    "collapsed": true
   },
   "outputs": [],
   "source": [
    "#That worked well. Doing the same for the State file. Get file and transform to data frame\n",
    "f2 = open('C:\\Users\\\\pathtofile\\\\file.csv')\n",
    "file2 = pd.read_csv(f2)\n",
    "df2 = pd.DataFrame(file2)"
   ]
  },
  {
   "cell_type": "code",
   "execution_count": 8,
   "metadata": {
    "scrolled": true
   },
   "outputs": [
    {
     "data": {
      "text/html": [
       "<div>\n",
       "<table border=\"1\" class=\"dataframe\">\n",
       "  <thead>\n",
       "    <tr style=\"text-align: right;\">\n",
       "      <th></th>\n",
       "      <th>Row</th>\n",
       "      <th>LEGAL_ENTITY</th>\n",
       "      <th>CY_YE</th>\n",
       "      <th>CVG_ST</th>\n",
       "    </tr>\n",
       "  </thead>\n",
       "  <tbody>\n",
       "    <tr>\n",
       "      <th>0</th>\n",
       "      <td>1</td>\n",
       "      <td>10833</td>\n",
       "      <td>2008</td>\n",
       "      <td>PR</td>\n",
       "    </tr>\n",
       "    <tr>\n",
       "      <th>1</th>\n",
       "      <td>2</td>\n",
       "      <td>10833</td>\n",
       "      <td>2009</td>\n",
       "      <td>CA</td>\n",
       "    </tr>\n",
       "    <tr>\n",
       "      <th>2</th>\n",
       "      <td>3</td>\n",
       "      <td>10833</td>\n",
       "      <td>2009</td>\n",
       "      <td>ID</td>\n",
       "    </tr>\n",
       "    <tr>\n",
       "      <th>3</th>\n",
       "      <td>4</td>\n",
       "      <td>10833</td>\n",
       "      <td>2009</td>\n",
       "      <td>PR</td>\n",
       "    </tr>\n",
       "    <tr>\n",
       "      <th>4</th>\n",
       "      <td>5</td>\n",
       "      <td>10833</td>\n",
       "      <td>2010</td>\n",
       "      <td>CA</td>\n",
       "    </tr>\n",
       "  </tbody>\n",
       "</table>\n",
       "</div>"
      ],
      "text/plain": [
       "   Row  LEGAL_ENTITY  CY_YE CVG_ST\n",
       "0    1         10833   2008     PR\n",
       "1    2         10833   2009     CA\n",
       "2    3         10833   2009     ID\n",
       "3    4         10833   2009     PR\n",
       "4    5         10833   2010     CA"
      ]
     },
     "execution_count": 8,
     "metadata": {},
     "output_type": "execute_result"
    }
   ],
   "source": [
    "# Check data\n",
    "df2.head()"
   ]
  },
  {
   "cell_type": "code",
   "execution_count": null,
   "metadata": {},
   "outputs": [],
   "source": [
    "#Writing STATE results to result file\n",
    "row_iterator = df2.iterrows()\n",
    "_, last = row_iterator.next()  # take first item from row_iterator\n",
    "resultFile = open('C:\\Users\\\\pathtofile\\\\file.csv', 'w')\n",
    "for i, row in row_iterator:\n",
    "    row1 = (int(row['LEGAL_ENTITY']), int(row['CY_YE']), row['CVG_ST'], int(row['Row']))\n",
    "    row2 = (last['LEGAL_ENTITY'], last['CY_YE'], last['CVG_ST'], int(row['Row']))\n",
    "    last = row\n",
    "    data = row1\n",
    "    query= \"\"\"SELECT COUNT(DISTINCT(pol_num)) In_Force_Count, sum(distinct(lmt_pol_s)) Exposure\n",
    "              FROM bapu.dbo.xxx\n",
    "              WHERE CONCAT({},1231) between CAST(d_pol_eff AS DATE) and CAST(d_pol_exp AS DATE)\n",
    "              and cvg_state = '{}'\n",
    "              and rpt_co_name in (SELECT Ent_Name FROM NAIC_Legal_Ent_Lookup WHERE ID = {})\n",
    "              and (cvg_desc = 'tria' or cvg_desc like '%terrorism%')\n",
    "              \"\"\".format(data[1],data[2],data[0])\n",
    "    cursor.execute(query)\n",
    "    for row in cursor.fetchall():\n",
    "        resultFile.write(\"{} {} {} {} {} {} \\n\".format(row[0], row[1], data[1], data[2], data[0], data[3]))\n",
    "        print row[0], row[1], data[1], data[2], data[0], data[3]"
   ]
  },
  {
   "cell_type": "code",
   "execution_count": null,
   "metadata": {
    "collapsed": true
   },
   "outputs": [],
   "source": [
    "#Done."
   ]
  }
 ],
 "metadata": {
  "kernelspec": {
   "display_name": "Python 2",
   "language": "python",
   "name": "python2"
  },
  "language_info": {
   "codemirror_mode": {
    "name": "ipython",
    "version": 2
   },
   "file_extension": ".py",
   "mimetype": "text/x-python",
   "name": "python",
   "nbconvert_exporter": "python",
   "pygments_lexer": "ipython2",
   "version": "2.7.11"
  }
 },
 "nbformat": 4,
 "nbformat_minor": 2
}
